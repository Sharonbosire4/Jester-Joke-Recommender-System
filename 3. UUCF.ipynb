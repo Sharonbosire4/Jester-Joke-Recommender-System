{
 "cells": [
  {
   "cell_type": "markdown",
   "metadata": {},
   "source": [
    "### Collaborative Filtering\n",
    "-----------------------------------------------------------------------\n",
    "----------------------------------------------------------------------\n",
    "\n",
    "    Collaborative Filtering techniques make recommendations for a user based on ratings and preferences data of many users. The main underlying idea is that if two users have both rated 2 items similarly, then the items that one user has liked that the other user has not yet \n",
    "\n",
    "##### In this notebook we will apply user user collaborative filtering technique!\n",
    "\n",
    "#### User User collaborative filtering !!\n",
    "------------------------------------------\n",
    "\n",
    "    This approach relies on the idea that users who have similar rating behaviours so far, share the same tastes and will likely exhibit similar rating behaviours going forward. The algorithm first computes the similarity between users by considering ratings both users have in common"
   ]
  },
  {
   "cell_type": "markdown",
   "metadata": {},
   "source": [
    "From notebook 2, we are taking similarity funcition. We will use this function to find similarity between active user  and other user using normalized data"
   ]
  },
  {
   "cell_type": "code",
   "execution_count": 3,
   "metadata": {},
   "outputs": [],
   "source": [
    "def weight_factor(x, y):\n",
    "    ''' \n",
    "    Weight factor implies relationship between user x and user y\n",
    "    Also know as similarity between user x and user y\n",
    "    We are using Pearson correlation coefficient here. \n",
    "    '''    \n",
    "    t1, t2, t3 = 0, 0, 0 \n",
    "    for i, j in zip(x, y):\n",
    "        t1+=i*j\n",
    "        t2+=i*i\n",
    "        t3+=j*j\n",
    "    return t1/(np.sqrt(t2) * np.sqrt(t3))"
   ]
  },
  {
   "cell_type": "markdown",
   "metadata": {},
   "source": [
    "#### Selecting normalized data from database!"
   ]
  },
  {
   "cell_type": "code",
   "execution_count": 4,
   "metadata": {},
   "outputs": [],
   "source": [
    "import numpy as np\n",
    "import pandas as pd\n",
    "import sqlite3 as db\n",
    "\n",
    "# Connect to a database (or create one if it doesn't exist)\n",
    "sql_db = 'jester_jokes'\n",
    "\n",
    "# database location and creating sql connection!\n",
    "db_loc = 'data/{}.db'.format(sql_db)\n",
    "conn = db.connect(db_loc)\n",
    "# Create a 'cursor' for executing commands\n",
    "c = conn.cursor()\n",
    "\n",
    "# Selecting normalized ratings \n",
    "query_normalized = 'SELECT * FROM normalized_ratings'\n",
    "normalized_ratings_df = pd.read_sql(query_normalized, conn)\n",
    "\n",
    "# Selecting ratings\n",
    "query_ratings = 'SELECT * FROM ratings'\n",
    "ratings_df = pd.read_sql(query_ratings, conn)"
   ]
  },
  {
   "cell_type": "code",
   "execution_count": 5,
   "metadata": {},
   "outputs": [
    {
     "data": {
      "text/html": [
       "<div>\n",
       "<style scoped>\n",
       "    .dataframe tbody tr th:only-of-type {\n",
       "        vertical-align: middle;\n",
       "    }\n",
       "\n",
       "    .dataframe tbody tr th {\n",
       "        vertical-align: top;\n",
       "    }\n",
       "\n",
       "    .dataframe thead th {\n",
       "        text-align: right;\n",
       "    }\n",
       "</style>\n",
       "<table border=\"1\" class=\"dataframe\">\n",
       "  <thead>\n",
       "    <tr style=\"text-align: right;\">\n",
       "      <th></th>\n",
       "      <th>user_id</th>\n",
       "      <th>number_of_jokes_rated</th>\n",
       "      <th>joke_1</th>\n",
       "      <th>joke_2</th>\n",
       "      <th>joke_3</th>\n",
       "      <th>joke_4</th>\n",
       "      <th>joke_5</th>\n",
       "      <th>joke_6</th>\n",
       "      <th>joke_7</th>\n",
       "      <th>joke_8</th>\n",
       "      <th>...</th>\n",
       "      <th>joke_91</th>\n",
       "      <th>joke_92</th>\n",
       "      <th>joke_93</th>\n",
       "      <th>joke_94</th>\n",
       "      <th>joke_95</th>\n",
       "      <th>joke_96</th>\n",
       "      <th>joke_97</th>\n",
       "      <th>joke_98</th>\n",
       "      <th>joke_99</th>\n",
       "      <th>joke_100</th>\n",
       "    </tr>\n",
       "  </thead>\n",
       "  <tbody>\n",
       "    <tr>\n",
       "      <th>0</th>\n",
       "      <td>1</td>\n",
       "      <td>74</td>\n",
       "      <td>-4.388108</td>\n",
       "      <td>12.221892</td>\n",
       "      <td>-6.228108</td>\n",
       "      <td>-4.728108</td>\n",
       "      <td>-4.088108</td>\n",
       "      <td>-5.068108</td>\n",
       "      <td>-6.418108</td>\n",
       "      <td>7.601892</td>\n",
       "      <td>...</td>\n",
       "      <td>6.251892</td>\n",
       "      <td>0.0000</td>\n",
       "      <td>0.0000</td>\n",
       "      <td>0.0000</td>\n",
       "      <td>0.0000</td>\n",
       "      <td>0.0000</td>\n",
       "      <td>-2.198108</td>\n",
       "      <td>0.0000</td>\n",
       "      <td>0.0000</td>\n",
       "      <td>0.0000</td>\n",
       "    </tr>\n",
       "    <tr>\n",
       "      <th>1</th>\n",
       "      <td>2</td>\n",
       "      <td>100</td>\n",
       "      <td>1.333700</td>\n",
       "      <td>-3.036300</td>\n",
       "      <td>3.613700</td>\n",
       "      <td>1.623700</td>\n",
       "      <td>-5.126300</td>\n",
       "      <td>-12.406300</td>\n",
       "      <td>-3.476300</td>\n",
       "      <td>-8.086300</td>\n",
       "      <td>...</td>\n",
       "      <td>0.073700</td>\n",
       "      <td>-7.6963</td>\n",
       "      <td>-3.0363</td>\n",
       "      <td>5.1137</td>\n",
       "      <td>-2.9363</td>\n",
       "      <td>-4.8863</td>\n",
       "      <td>0.313700</td>\n",
       "      <td>-2.4063</td>\n",
       "      <td>-7.0663</td>\n",
       "      <td>-1.6763</td>\n",
       "    </tr>\n",
       "  </tbody>\n",
       "</table>\n",
       "<p>2 rows × 102 columns</p>\n",
       "</div>"
      ],
      "text/plain": [
       "   user_id  number_of_jokes_rated    joke_1     joke_2    joke_3    joke_4  \\\n",
       "0        1                     74 -4.388108  12.221892 -6.228108 -4.728108   \n",
       "1        2                    100  1.333700  -3.036300  3.613700  1.623700   \n",
       "\n",
       "     joke_5     joke_6    joke_7    joke_8  ...   joke_91  joke_92  joke_93  \\\n",
       "0 -4.088108  -5.068108 -6.418108  7.601892  ...  6.251892   0.0000   0.0000   \n",
       "1 -5.126300 -12.406300 -3.476300 -8.086300  ...  0.073700  -7.6963  -3.0363   \n",
       "\n",
       "   joke_94  joke_95  joke_96   joke_97  joke_98  joke_99  joke_100  \n",
       "0   0.0000   0.0000   0.0000 -2.198108   0.0000   0.0000    0.0000  \n",
       "1   5.1137  -2.9363  -4.8863  0.313700  -2.4063  -7.0663   -1.6763  \n",
       "\n",
       "[2 rows x 102 columns]"
      ]
     },
     "execution_count": 5,
     "metadata": {},
     "output_type": "execute_result"
    }
   ],
   "source": [
    "normalized_ratings_df.head(2)"
   ]
  },
  {
   "cell_type": "markdown",
   "metadata": {},
   "source": [
    "#### Separating normalized ratings dataframe!\n",
    "\n",
    "We will be separating normalized ratings dataframe into 2 parts, \n",
    "\n",
    "    1> Complete ratings: Those users who have rated all 100 jokes\n",
    "    2> Sparse ratings: Those users who haven't rated all 100 jokes\n",
    "    \n",
    "For ease in computation, we will only select active user from sparse ratings, and other users from compete rating groups"
   ]
  },
  {
   "cell_type": "code",
   "execution_count": 6,
   "metadata": {},
   "outputs": [
    {
     "name": "stdout",
     "output_type": "stream",
     "text": [
      "total user count who have rated all the jokes:  14116\n",
      "total user count who have not rated all the jokes:  59305\n"
     ]
    }
   ],
   "source": [
    "# We will be using users who have rated all the 100 jokes as other users.\n",
    "complete_ratings = normalized_ratings_df[normalized_ratings_df['number_of_jokes_rated'] == 100]\n",
    "print('total user count who have rated all the jokes: ', len(complete_ratings))\n",
    "# We will be randomly using one out of these users as active user and use it to find \n",
    "# similarity with complete_ratings dataset. \n",
    "sparse_ratings = normalized_ratings_df[normalized_ratings_df['number_of_jokes_rated'] != 100]\n",
    "print('total user count who have not rated all the jokes: ', len(sparse_ratings))"
   ]
  },
  {
   "cell_type": "markdown",
   "metadata": {},
   "source": [
    "    Selecting one of the user from sparse_ratings matrix for whom the recommendation will be given. We will call him our active user and generate recommendation for him!"
   ]
  },
  {
   "cell_type": "code",
   "execution_count": 7,
   "metadata": {},
   "outputs": [
    {
     "name": "stdout",
     "output_type": "stream",
     "text": [
      "Let's selct a random user with user id 1352 as active user for which we will recommend the joke\n"
     ]
    }
   ],
   "source": [
    "# selecting a random user say 1000th user in sparse_ratings list\n",
    "n = 1000\n",
    "active_user_id = sparse_ratings.iloc[n, 0]\n",
    "print(\"Let's selct a random user with user id {} as active user for\\\n",
    " which we will recommend the joke\".format(str(active_user_id)))"
   ]
  },
  {
   "cell_type": "code",
   "execution_count": 8,
   "metadata": {},
   "outputs": [
    {
     "name": "stdout",
     "output_type": "stream",
     "text": [
      "ratings given by active user 1352 for 100 jokes\n"
     ]
    },
    {
     "data": {
      "text/html": [
       "<div>\n",
       "<style scoped>\n",
       "    .dataframe tbody tr th:only-of-type {\n",
       "        vertical-align: middle;\n",
       "    }\n",
       "\n",
       "    .dataframe tbody tr th {\n",
       "        vertical-align: top;\n",
       "    }\n",
       "\n",
       "    .dataframe thead th {\n",
       "        text-align: right;\n",
       "    }\n",
       "</style>\n",
       "<table border=\"1\" class=\"dataframe\">\n",
       "  <thead>\n",
       "    <tr style=\"text-align: right;\">\n",
       "      <th></th>\n",
       "      <th>joke_1</th>\n",
       "      <th>joke_2</th>\n",
       "      <th>joke_3</th>\n",
       "      <th>joke_4</th>\n",
       "      <th>joke_5</th>\n",
       "      <th>joke_6</th>\n",
       "      <th>joke_7</th>\n",
       "      <th>joke_8</th>\n",
       "      <th>joke_9</th>\n",
       "      <th>joke_10</th>\n",
       "      <th>...</th>\n",
       "      <th>joke_91</th>\n",
       "      <th>joke_92</th>\n",
       "      <th>joke_93</th>\n",
       "      <th>joke_94</th>\n",
       "      <th>joke_95</th>\n",
       "      <th>joke_96</th>\n",
       "      <th>joke_97</th>\n",
       "      <th>joke_98</th>\n",
       "      <th>joke_99</th>\n",
       "      <th>joke_100</th>\n",
       "    </tr>\n",
       "  </thead>\n",
       "  <tbody>\n",
       "    <tr>\n",
       "      <th>1351</th>\n",
       "      <td>7.871096</td>\n",
       "      <td>-1.888904</td>\n",
       "      <td>-2.568904</td>\n",
       "      <td>-1.118904</td>\n",
       "      <td>2.821096</td>\n",
       "      <td>-4.078904</td>\n",
       "      <td>-0.188904</td>\n",
       "      <td>1.891096</td>\n",
       "      <td>-2.568904</td>\n",
       "      <td>3.931096</td>\n",
       "      <td>...</td>\n",
       "      <td>0.0</td>\n",
       "      <td>-3.448904</td>\n",
       "      <td>0.0</td>\n",
       "      <td>0.0</td>\n",
       "      <td>0.0</td>\n",
       "      <td>0.0</td>\n",
       "      <td>0.0</td>\n",
       "      <td>0.0</td>\n",
       "      <td>0.0</td>\n",
       "      <td>0.0</td>\n",
       "    </tr>\n",
       "  </tbody>\n",
       "</table>\n",
       "<p>1 rows × 100 columns</p>\n",
       "</div>"
      ],
      "text/plain": [
       "        joke_1    joke_2    joke_3    joke_4    joke_5    joke_6    joke_7  \\\n",
       "1351  7.871096 -1.888904 -2.568904 -1.118904  2.821096 -4.078904 -0.188904   \n",
       "\n",
       "        joke_8    joke_9   joke_10  ...  joke_91   joke_92  joke_93  joke_94  \\\n",
       "1351  1.891096 -2.568904  3.931096  ...      0.0 -3.448904      0.0      0.0   \n",
       "\n",
       "      joke_95  joke_96  joke_97  joke_98  joke_99  joke_100  \n",
       "1351      0.0      0.0      0.0      0.0      0.0       0.0  \n",
       "\n",
       "[1 rows x 100 columns]"
      ]
     },
     "execution_count": 8,
     "metadata": {},
     "output_type": "execute_result"
    }
   ],
   "source": [
    "print('ratings given by active user {} for 100 jokes'.format(str(active_user_id)))\n",
    "active_user = sparse_ratings[sparse_ratings['user_id'] == active_user_id]\n",
    "active_user_rating = active_user.iloc[:, 2:]\n",
    "active_user_rating"
   ]
  },
  {
   "cell_type": "markdown",
   "metadata": {},
   "source": [
    "##### Finding similarity between active user and complete rated user!"
   ]
  },
  {
   "cell_type": "code",
   "execution_count": 9,
   "metadata": {},
   "outputs": [],
   "source": [
    "# saving active user ratings into 1 d list\n",
    "active_user_rating_list = active_user_rating.values.ravel()\n",
    "# finding similarity between active user and all its neighbours among complete rating users\n",
    "similarity = np.array([(complete_ratings.iloc[i, 0],\\\n",
    "             weight_factor(active_user_rating_list, complete_ratings.iloc[i, 2:]))\\\n",
    "             for i in range(complete_ratings.shape[0])])"
   ]
  },
  {
   "cell_type": "markdown",
   "metadata": {},
   "source": [
    "#### Sorting the neighbours using similarity "
   ]
  },
  {
   "cell_type": "code",
   "execution_count": 10,
   "metadata": {},
   "outputs": [
    {
     "data": {
      "text/plain": [
       "array([[ 2.76640000e+04, -3.52644866e-01],\n",
       "       [ 3.26670000e+04, -3.34265224e-01],\n",
       "       [ 2.53620000e+04, -3.30902199e-01],\n",
       "       ...,\n",
       "       [ 1.92170000e+04,  3.99469178e-01],\n",
       "       [ 1.06150000e+04,  4.06355890e-01],\n",
       "       [ 7.49200000e+03,  4.59458050e-01]])"
      ]
     },
     "execution_count": 10,
     "metadata": {},
     "output_type": "execute_result"
    }
   ],
   "source": [
    "ind = np.argsort( similarity[:,1] )\n",
    "similarity = similarity[ind]\n",
    "similarity"
   ]
  },
  {
   "cell_type": "markdown",
   "metadata": {},
   "source": [
    "### Now we have similarity matrix, our next task is to select neighbourhood. \n",
    "##### There are few methods to select neighbours:\n",
    "    1. Use all neighbours in samll dataset\n",
    "    2. Threshold similarity or distance:\n",
    "        eg. all users with similarity of 0.1 or above to user for whom we are generating the recommendations will be considered\n",
    "    3. Random neighbour:\n",
    "        Can be useful for very large dataset in conjucture with other technique. for eg. randomly select 10,000 neighbour and then threshold them or pick top n\n",
    "    4. Top n neighbour by similarity or distance\n",
    "        \n",
    "### How many neighbours?\n",
    "##### Between 25 to 100 is ofen used.\n",
    "        \n",
    "#### Our method !\n",
    "    We will be use threshold method followed by random n samples, (where n can be any random number between 25 - 100) but for simplicity we will take n as 30. \n",
    "    For threshold we will select other users with similarity > 0.1\n",
    "    "
   ]
  },
  {
   "cell_type": "code",
   "execution_count": 12,
   "metadata": {},
   "outputs": [
    {
     "name": "stdout",
     "output_type": "stream",
     "text": [
      "We have 4601 potential neighbours! Now we will be randomly selecting 30 samples out of them\n"
     ]
    }
   ],
   "source": [
    "neighbours = similarity[similarity[:,1] > 0.1]\n",
    "print('We have {} potential neighbours! Now we will be randomly selecting 30 samples out of them'.format(len(neighbours)))"
   ]
  },
  {
   "cell_type": "markdown",
   "metadata": {},
   "source": [
    "#### Randomly selecting 30 neighbours"
   ]
  },
  {
   "cell_type": "code",
   "execution_count": 13,
   "metadata": {
    "scrolled": true
   },
   "outputs": [
    {
     "data": {
      "text/plain": [
       "array([[3.23130000e+04, 2.01937550e-01],\n",
       "       [2.49720000e+04, 1.27577933e-01],\n",
       "       [3.46390000e+04, 2.01279295e-01],\n",
       "       [3.68480000e+04, 1.50230728e-01],\n",
       "       [2.26270000e+04, 1.11033644e-01],\n",
       "       [8.50200000e+03, 2.70440082e-01],\n",
       "       [1.44360000e+04, 1.07649024e-01],\n",
       "       [2.70370000e+04, 1.28080255e-01],\n",
       "       [1.76080000e+04, 1.05304573e-01],\n",
       "       [4.10600000e+04, 1.93403604e-01],\n",
       "       [3.66270000e+04, 1.61955903e-01],\n",
       "       [8.97900000e+03, 2.68981037e-01],\n",
       "       [2.21140000e+04, 1.67170822e-01],\n",
       "       [6.57400000e+03, 1.46263622e-01],\n",
       "       [2.54530000e+04, 1.41099161e-01],\n",
       "       [4.60340000e+04, 1.30307916e-01],\n",
       "       [1.80000000e+04, 2.16982017e-01],\n",
       "       [3.19300000e+03, 2.09792215e-01],\n",
       "       [3.64050000e+04, 1.23917764e-01],\n",
       "       [3.98770000e+04, 1.09974729e-01],\n",
       "       [1.97950000e+04, 2.59416876e-01],\n",
       "       [5.14200000e+03, 2.15887916e-01],\n",
       "       [2.42750000e+04, 1.01509702e-01],\n",
       "       [1.56420000e+04, 2.42351093e-01],\n",
       "       [3.28420000e+04, 1.51297894e-01],\n",
       "       [8.49100000e+03, 2.53395810e-01],\n",
       "       [3.55220000e+04, 1.08173879e-01],\n",
       "       [8.95200000e+03, 1.34593994e-01],\n",
       "       [1.86590000e+04, 1.54260639e-01],\n",
       "       [1.30250000e+04, 1.20469567e-01]])"
      ]
     },
     "execution_count": 13,
     "metadata": {},
     "output_type": "execute_result"
    }
   ],
   "source": [
    "# by replace = False, ensuring that no duplicate neighbour is selected !!\n",
    "index_30_neighbour = np.random.choice(range(len(neighbours)), 30, replace=False)\n",
    "selected_neighbours = neighbours[index_30_neighbour]\n",
    "selected_neighbours"
   ]
  },
  {
   "cell_type": "markdown",
   "metadata": {},
   "source": [
    "    Once we have selected 30 closest neighbours, our task is to create scoring for the jokes !! We will crate scoring for only those jokes which isn't rated yet by the active user yet. "
   ]
  },
  {
   "cell_type": "code",
   "execution_count": 14,
   "metadata": {},
   "outputs": [],
   "source": [
    "recommendation_columns = [column for column in active_user_rating.columns if active_user_rating[column].values[0] == 0]"
   ]
  },
  {
   "cell_type": "markdown",
   "metadata": {},
   "source": [
    "##### Mean value of ratings of active user!!\n",
    "\n",
    "    The mean value of rating is used to create so as to compensate for the offset created when data was normalized.\n",
    "    By adding mean value to the predicted score, it will give the probable score the user will give to a joke!"
   ]
  },
  {
   "cell_type": "code",
   "execution_count": 16,
   "metadata": {},
   "outputs": [
    {
     "data": {
      "text/plain": [
       "0.6289041095890411"
      ]
     },
     "execution_count": 16,
     "metadata": {},
     "output_type": "execute_result"
    }
   ],
   "source": [
    "active_user_raw_ratings = ratings_df[ratings_df['user_id'] == active_user_id].iloc[:, 2:]\n",
    "active_user_mean_rating = np.mean(active_user_raw_ratings.drop(recommendation_columns, axis = 1).values)\n",
    "active_user_mean_rating"
   ]
  },
  {
   "cell_type": "code",
   "execution_count": 17,
   "metadata": {},
   "outputs": [
    {
     "name": "stdout",
     "output_type": "stream",
     "text": [
      "neighbours user id:  [32313. 24972. 34639. 36848. 22627.  8502. 14436. 27037. 17608. 41060.\n",
      " 36627.  8979. 22114.  6574. 25453. 46034. 18000.  3193. 36405. 39877.\n",
      " 19795.  5142. 24275. 15642. 32842.  8491. 35522.  8952. 18659. 13025.] \n",
      "\n",
      "\n",
      "neighbours user similarity:  [0.20193755 0.12757793 0.2012793  0.15023073 0.11103364 0.27044008\n",
      " 0.10764902 0.12808025 0.10530457 0.1934036  0.1619559  0.26898104\n",
      " 0.16717082 0.14626362 0.14109916 0.13030792 0.21698202 0.20979222\n",
      " 0.12391776 0.10997473 0.25941688 0.21588792 0.1015097  0.24235109\n",
      " 0.15129789 0.25339581 0.10817388 0.13459399 0.15426064 0.12046957]\n"
     ]
    }
   ],
   "source": [
    "# Selecting neighbours user_id\n",
    "neighbour_user_id = selected_neighbours[:, 0]\n",
    "\n",
    "\n",
    "# selectig neighbour user similarity\n",
    "neighbour_user_similarity = selected_neighbours[:, 1]\n",
    "\n",
    "# viewing all neighbours user id and similarity\n",
    "print('neighbours user id: ', neighbour_user_id, '\\n\\n')\n",
    "print('neighbours user similarity: ', neighbour_user_similarity)"
   ]
  },
  {
   "cell_type": "markdown",
   "metadata": {},
   "source": [
    "#### Selecting all the data of neighbour!"
   ]
  },
  {
   "cell_type": "code",
   "execution_count": 18,
   "metadata": {},
   "outputs": [
    {
     "data": {
      "text/plain": [
       "30"
      ]
     },
     "execution_count": 18,
     "metadata": {},
     "output_type": "execute_result"
    }
   ],
   "source": [
    "neighbours_df = complete_ratings[complete_ratings['user_id'].isin(neighbour_user_id)]\n",
    "len(neighbours_df)"
   ]
  },
  {
   "cell_type": "code",
   "execution_count": 22,
   "metadata": {},
   "outputs": [
    {
     "name": "stdout",
     "output_type": "stream",
     "text": [
      "We will be suggesting one out of 27 jokes to the active user \n",
      "\n",
      "\n"
     ]
    },
    {
     "data": {
      "text/html": [
       "<div>\n",
       "<style scoped>\n",
       "    .dataframe tbody tr th:only-of-type {\n",
       "        vertical-align: middle;\n",
       "    }\n",
       "\n",
       "    .dataframe tbody tr th {\n",
       "        vertical-align: top;\n",
       "    }\n",
       "\n",
       "    .dataframe thead th {\n",
       "        text-align: right;\n",
       "    }\n",
       "</style>\n",
       "<table border=\"1\" class=\"dataframe\">\n",
       "  <thead>\n",
       "    <tr style=\"text-align: right;\">\n",
       "      <th></th>\n",
       "      <th>joke_71</th>\n",
       "      <th>joke_72</th>\n",
       "      <th>joke_73</th>\n",
       "      <th>joke_74</th>\n",
       "      <th>joke_75</th>\n",
       "      <th>joke_76</th>\n",
       "      <th>joke_77</th>\n",
       "      <th>joke_78</th>\n",
       "      <th>joke_80</th>\n",
       "      <th>joke_82</th>\n",
       "      <th>...</th>\n",
       "      <th>joke_90</th>\n",
       "      <th>joke_91</th>\n",
       "      <th>joke_93</th>\n",
       "      <th>joke_94</th>\n",
       "      <th>joke_95</th>\n",
       "      <th>joke_96</th>\n",
       "      <th>joke_97</th>\n",
       "      <th>joke_98</th>\n",
       "      <th>joke_99</th>\n",
       "      <th>joke_100</th>\n",
       "    </tr>\n",
       "  </thead>\n",
       "  <tbody>\n",
       "    <tr>\n",
       "      <th>3192</th>\n",
       "      <td>-6.1697</td>\n",
       "      <td>-5.0997</td>\n",
       "      <td>3.5903</td>\n",
       "      <td>3.8803</td>\n",
       "      <td>-4.5697</td>\n",
       "      <td>-6.6597</td>\n",
       "      <td>3.1003</td>\n",
       "      <td>7.4203</td>\n",
       "      <td>-7.9697</td>\n",
       "      <td>7.7603</td>\n",
       "      <td>...</td>\n",
       "      <td>2.8103</td>\n",
       "      <td>-6.3697</td>\n",
       "      <td>5.3803</td>\n",
       "      <td>4.6503</td>\n",
       "      <td>-6.2697</td>\n",
       "      <td>-4.4197</td>\n",
       "      <td>6.7403</td>\n",
       "      <td>-8.9897</td>\n",
       "      <td>5.8703</td>\n",
       "      <td>-6.3197</td>\n",
       "    </tr>\n",
       "    <tr>\n",
       "      <th>5141</th>\n",
       "      <td>-2.9059</td>\n",
       "      <td>4.1841</td>\n",
       "      <td>4.5241</td>\n",
       "      <td>-5.2759</td>\n",
       "      <td>6.1741</td>\n",
       "      <td>3.9941</td>\n",
       "      <td>-4.5559</td>\n",
       "      <td>2.8741</td>\n",
       "      <td>0.3041</td>\n",
       "      <td>-3.9659</td>\n",
       "      <td>...</td>\n",
       "      <td>2.1441</td>\n",
       "      <td>3.0741</td>\n",
       "      <td>0.4041</td>\n",
       "      <td>-0.8659</td>\n",
       "      <td>1.8041</td>\n",
       "      <td>3.8941</td>\n",
       "      <td>-5.8159</td>\n",
       "      <td>5.2041</td>\n",
       "      <td>3.4141</td>\n",
       "      <td>1.8041</td>\n",
       "    </tr>\n",
       "    <tr>\n",
       "      <th>6573</th>\n",
       "      <td>-4.6741</td>\n",
       "      <td>3.9159</td>\n",
       "      <td>-1.2741</td>\n",
       "      <td>1.5859</td>\n",
       "      <td>1.5859</td>\n",
       "      <td>3.2359</td>\n",
       "      <td>0.2759</td>\n",
       "      <td>3.7259</td>\n",
       "      <td>-9.0941</td>\n",
       "      <td>0.8559</td>\n",
       "      <td>...</td>\n",
       "      <td>-1.2341</td>\n",
       "      <td>3.6759</td>\n",
       "      <td>4.0659</td>\n",
       "      <td>0.0359</td>\n",
       "      <td>3.1859</td>\n",
       "      <td>3.1359</td>\n",
       "      <td>1.0559</td>\n",
       "      <td>5.1759</td>\n",
       "      <td>5.8059</td>\n",
       "      <td>1.1059</td>\n",
       "    </tr>\n",
       "    <tr>\n",
       "      <th>8490</th>\n",
       "      <td>-8.3116</td>\n",
       "      <td>-0.7916</td>\n",
       "      <td>0.7684</td>\n",
       "      <td>-6.7616</td>\n",
       "      <td>1.1984</td>\n",
       "      <td>-6.0816</td>\n",
       "      <td>-6.6116</td>\n",
       "      <td>-6.8116</td>\n",
       "      <td>1.2484</td>\n",
       "      <td>-7.8716</td>\n",
       "      <td>...</td>\n",
       "      <td>-5.9816</td>\n",
       "      <td>-5.7416</td>\n",
       "      <td>4.8884</td>\n",
       "      <td>0.4284</td>\n",
       "      <td>7.2684</td>\n",
       "      <td>-6.8116</td>\n",
       "      <td>0.2784</td>\n",
       "      <td>-0.0116</td>\n",
       "      <td>-1.5116</td>\n",
       "      <td>1.0084</td>\n",
       "    </tr>\n",
       "    <tr>\n",
       "      <th>8501</th>\n",
       "      <td>0.2559</td>\n",
       "      <td>0.1659</td>\n",
       "      <td>0.7959</td>\n",
       "      <td>-3.5741</td>\n",
       "      <td>-0.1341</td>\n",
       "      <td>3.1759</td>\n",
       "      <td>2.2959</td>\n",
       "      <td>0.7959</td>\n",
       "      <td>0.4559</td>\n",
       "      <td>-0.2241</td>\n",
       "      <td>...</td>\n",
       "      <td>-0.3241</td>\n",
       "      <td>-0.4241</td>\n",
       "      <td>-2.0741</td>\n",
       "      <td>-4.0641</td>\n",
       "      <td>-2.6541</td>\n",
       "      <td>-0.9541</td>\n",
       "      <td>2.1559</td>\n",
       "      <td>-0.5141</td>\n",
       "      <td>0.0659</td>\n",
       "      <td>-0.0841</td>\n",
       "    </tr>\n",
       "  </tbody>\n",
       "</table>\n",
       "<p>5 rows × 27 columns</p>\n",
       "</div>"
      ],
      "text/plain": [
       "      joke_71  joke_72  joke_73  joke_74  joke_75  joke_76  joke_77  joke_78  \\\n",
       "3192  -6.1697  -5.0997   3.5903   3.8803  -4.5697  -6.6597   3.1003   7.4203   \n",
       "5141  -2.9059   4.1841   4.5241  -5.2759   6.1741   3.9941  -4.5559   2.8741   \n",
       "6573  -4.6741   3.9159  -1.2741   1.5859   1.5859   3.2359   0.2759   3.7259   \n",
       "8490  -8.3116  -0.7916   0.7684  -6.7616   1.1984  -6.0816  -6.6116  -6.8116   \n",
       "8501   0.2559   0.1659   0.7959  -3.5741  -0.1341   3.1759   2.2959   0.7959   \n",
       "\n",
       "      joke_80  joke_82  ...  joke_90  joke_91  joke_93  joke_94  joke_95  \\\n",
       "3192  -7.9697   7.7603  ...   2.8103  -6.3697   5.3803   4.6503  -6.2697   \n",
       "5141   0.3041  -3.9659  ...   2.1441   3.0741   0.4041  -0.8659   1.8041   \n",
       "6573  -9.0941   0.8559  ...  -1.2341   3.6759   4.0659   0.0359   3.1859   \n",
       "8490   1.2484  -7.8716  ...  -5.9816  -5.7416   4.8884   0.4284   7.2684   \n",
       "8501   0.4559  -0.2241  ...  -0.3241  -0.4241  -2.0741  -4.0641  -2.6541   \n",
       "\n",
       "      joke_96  joke_97  joke_98  joke_99  joke_100  \n",
       "3192  -4.4197   6.7403  -8.9897   5.8703   -6.3197  \n",
       "5141   3.8941  -5.8159   5.2041   3.4141    1.8041  \n",
       "6573   3.1359   1.0559   5.1759   5.8059    1.1059  \n",
       "8490  -6.8116   0.2784  -0.0116  -1.5116    1.0084  \n",
       "8501  -0.9541   2.1559  -0.5141   0.0659   -0.0841  \n",
       "\n",
       "[5 rows x 27 columns]"
      ]
     },
     "execution_count": 22,
     "metadata": {},
     "output_type": "execute_result"
    }
   ],
   "source": [
    "# selecting only recommendation columns\n",
    "print('We will be suggesting one out of {} jokes to the active user \\n\\n'.format(len(recommendation_columns)))\n",
    "\n",
    "neighbours_df = neighbours_df[recommendation_columns]\n",
    "neighbours_df.head()"
   ]
  },
  {
   "cell_type": "markdown",
   "metadata": {},
   "source": [
    "#### checking score for item 0 of the recommendation_columns"
   ]
  },
  {
   "cell_type": "code",
   "execution_count": 23,
   "metadata": {},
   "outputs": [
    {
     "name": "stdout",
     "output_type": "stream",
     "text": [
      "item 0 for which we calculate the score is joke_71\n"
     ]
    },
    {
     "data": {
      "text/plain": [
       "-1.8580168676384594"
      ]
     },
     "execution_count": 23,
     "metadata": {},
     "output_type": "execute_result"
    }
   ],
   "source": [
    "item_id = recommendation_columns[0]\n",
    "print( 'item 0 for which we calculate the score is', item_id)\n",
    "\n",
    "def score_user_item(item_id, neighbours_df,neighbour_user_similarity, active_user_mean_rating ):\n",
    "    item_rating = neighbours_df[item_id]\n",
    "    t1, t2 = 0, 0\n",
    "    for similarity, norm_rating in zip(neighbour_user_similarity, item_rating):\n",
    "        t1+= norm_rating * similarity\n",
    "        t2+= similarity\n",
    "    score = (t1 + active_user_mean_rating)/t2\n",
    "    return score\n",
    "\n",
    "# checking score for a particular joke!\n",
    "score_user_item(item_id, neighbours_df,neighbour_user_similarity, active_user_mean_rating )\n",
    "        "
   ]
  },
  {
   "cell_type": "markdown",
   "metadata": {},
   "source": [
    "#### suggesting use the joke which has the highesht score among all"
   ]
  },
  {
   "cell_type": "code",
   "execution_count": 25,
   "metadata": {},
   "outputs": [
    {
     "name": "stdout",
     "output_type": "stream",
     "text": [
      "highest score is 3.089570835775759\n",
      "The highest score obtained by the joke among all the unseen jokes is joke_89\n"
     ]
    }
   ],
   "source": [
    "# Computing user item score !\n",
    "top_score = -np.inf\n",
    "joke_to_suggest = ''\n",
    "\n",
    "for column in neighbours_df.columns:\n",
    "    score =score_user_item(column, neighbours_df,neighbour_user_similarity, active_user_mean_rating)\n",
    "    if score > top_score:\n",
    "        top_score = score\n",
    "        joke_to_suggest = column\n",
    "print('highest score is', top_score)\n",
    "print('The highest score obtained by the joke among all the unseen jokes is', joke_to_suggest, )    "
   ]
  },
  {
   "cell_type": "code",
   "execution_count": null,
   "metadata": {},
   "outputs": [],
   "source": []
  },
  {
   "cell_type": "code",
   "execution_count": null,
   "metadata": {},
   "outputs": [],
   "source": []
  }
 ],
 "metadata": {
  "kernelspec": {
   "display_name": "Python 3",
   "language": "python",
   "name": "python3"
  },
  "language_info": {
   "codemirror_mode": {
    "name": "ipython",
    "version": 3
   },
   "file_extension": ".py",
   "mimetype": "text/x-python",
   "name": "python",
   "nbconvert_exporter": "python",
   "pygments_lexer": "ipython3",
   "version": "3.7.6"
  }
 },
 "nbformat": 4,
 "nbformat_minor": 4
}
