{
 "cells": [
  {
   "cell_type": "code",
   "execution_count": null,
   "metadata": {},
   "outputs": [],
   "source": []
  },
  {
   "cell_type": "code",
   "execution_count": 3,
   "metadata": {},
   "outputs": [],
   "source": [
    "# !pip install pyspark"
   ]
  },
  {
   "cell_type": "code",
   "execution_count": 4,
   "metadata": {},
   "outputs": [],
   "source": [
    "from pyspark.sql import SparkSession\n",
    "from pyspark.sql.functions import count, desc, col, max, struct\n",
    "import matplotlib.pyplot as plt"
   ]
  },
  {
   "cell_type": "code",
   "execution_count": 5,
   "metadata": {},
   "outputs": [],
   "source": [
    "## Creating sparksession \n",
    "spark =  SparkSession.builder.appName('spark_app').getOrCreate()"
   ]
  },
  {
   "cell_type": "code",
   "execution_count": 6,
   "metadata": {},
   "outputs": [],
   "source": [
    "ratings_csv_path = 'data/jester_jokes_rating.csv'\n",
    "\n",
    "# We use spark method called read which read csv format data. \n",
    "# 'inferSchema' = True, =>, infers columns types based on the data type we have\n",
    "# 'header' = Ture => same column name as in csv file. \n",
    "ratings_df = spark.read.format('csv')\\\n",
    "                        .option('inferSchema', True)\\\n",
    "                        .option('header', True)\\\n",
    "                        .load(ratings_csv_path)"
   ]
  },
  {
   "cell_type": "code",
   "execution_count": 11,
   "metadata": {},
   "outputs": [
    {
     "name": "stdout",
     "output_type": "stream",
     "text": [
      "+-------+---------------------+-------------+-------------+-------------+\n",
      "|user_id|number_of_jokes_rated|joke_1_rating|joke_2_rating|joke_3_rating|\n",
      "+-------+---------------------+-------------+-------------+-------------+\n",
      "|      1|                   74|        -7.82|         8.79|        -9.66|\n",
      "|      2|                  100|         4.08|        -0.29|         6.36|\n",
      "|      3|                   49|         99.0|         99.0|         99.0|\n",
      "|      4|                   48|         99.0|         8.35|         99.0|\n",
      "|      5|                   91|          8.5|         4.61|        -4.17|\n",
      "+-------+---------------------+-------------+-------------+-------------+\n",
      "only showing top 5 rows\n",
      "\n"
     ]
    }
   ],
   "source": [
    "# just looking at first 5 columns of ratings_df\n",
    "\n",
    "q0 = ratings_df.select('user_id', 'number_of_jokes_rated', 'joke_1_rating', 'joke_2_rating','joke_3_rating')\n",
    "q0.show(5)"
   ]
  },
  {
   "cell_type": "code",
   "execution_count": null,
   "metadata": {},
   "outputs": [],
   "source": []
  }
 ],
 "metadata": {
  "kernelspec": {
   "display_name": "Python 3",
   "language": "python",
   "name": "python3"
  },
  "language_info": {
   "codemirror_mode": {
    "name": "ipython",
    "version": 3
   },
   "file_extension": ".py",
   "mimetype": "text/x-python",
   "name": "python",
   "nbconvert_exporter": "python",
   "pygments_lexer": "ipython3",
   "version": "3.7.6"
  }
 },
 "nbformat": 4,
 "nbformat_minor": 4
}
